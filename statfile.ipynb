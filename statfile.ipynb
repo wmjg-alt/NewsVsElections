{
 "cells": [
  {
   "cell_type": "code",
   "execution_count": 17,
   "metadata": {},
   "outputs": [],
   "source": [
    "import pandas as pd\n",
    "import matplotlib.pyplot as plt\n",
    "\n",
    "out_file ='full_with_headlines.csv'\n",
    "head_split = '    '\n",
    "news_df = pd.read_csv(out_file)\n",
    "#news_df = news_df[(news_df['headlines'].notna()) & (news_df['headlines'] != \"\")].reset_index()\n",
    "news_df['winner'] = news_df.groupby(['year','state','district','totalvotes'], sort=False)['candidatevotes'].transform(max)\n",
    "news_df['winner'] = news_df['winner'] == news_df['candidatevotes']"
   ]
  },
  {
   "cell_type": "code",
   "execution_count": 18,
   "metadata": {},
   "outputs": [
    {
     "data": {
      "text/plain": [
       "4185509098"
      ]
     },
     "execution_count": 18,
     "metadata": {},
     "output_type": "execute_result"
    }
   ],
   "source": [
    "news_df['totalvotes'].sum()"
   ]
  },
  {
   "cell_type": "code",
   "execution_count": 19,
   "metadata": {},
   "outputs": [
    {
     "data": {
      "text/plain": [
       "0.5049719761345145"
      ]
     },
     "execution_count": 19,
     "metadata": {},
     "output_type": "execute_result"
    }
   ],
   "source": [
    "news_df['winner'].sum() / len(news_df)"
   ]
  },
  {
   "cell_type": "code",
   "execution_count": 30,
   "metadata": {},
   "outputs": [],
   "source": [
    "r = news_df[news_df['party'] == \"REPUBLICAN\"]\n",
    "d = news_df[news_df['party'] == \"DEMOCRAT\"]\n",
    "i = news_df[(news_df['party'] != \"REPUBLICAN\")& (news_df['party'] != \"DEMOCRAT\")]\n",
    "win_dict = {'R_WIN':r['winner'].sum(),\n",
    "            'D_WIN':d['winner'].sum(),\n",
    "            'I_WIN':i['winner'].sum(),\n",
    "            'R_LOSS': 0- (len(r) - r['winner'].sum()),\n",
    "            'D_LOSS': 0- (len(d) - d['winner'].sum()),\n",
    "            'I_LOSS': 0- (len(i) - i['winner'].sum()),}\n",
    "I_dict = {'WIN':win_dict['I_WIN'],\n",
    "          'LOSS':win_dict['I_LOSS'],\n",
    "          'ALL':len(i),}\n",
    "R_dict = {'WIN':win_dict['R_WIN'],\n",
    "          'LOSS':win_dict['R_LOSS'],\n",
    "          'ALL':len(r),}\n",
    "D_dict = {'WIN':win_dict['D_WIN'],\n",
    "          'LOSS':win_dict['D_LOSS'],\n",
    "          'ALL':len(d),}"
   ]
  },
  {
   "cell_type": "code",
   "execution_count": 31,
   "metadata": {},
   "outputs": [
    {
     "data": {
      "image/png": "[encoded data removed]",
      "text/plain": [
       "<Figure size 432x288 with 1 Axes>"
      ]
     },
     "metadata": {
      "needs_background": "light"
     },
     "output_type": "display_data"
    }
   ],
   "source": [
    "data = win_dict\n",
    "names = list(data.keys())\n",
    "values = list(data.values())\n",
    "fig, ax = plt.subplots()\n",
    "\n",
    "plt.bar(range(len(data)), values, tick_label=names)\n",
    "plt.show()"
   ]
  },
  {
   "cell_type": "code",
   "execution_count": null,
   "metadata": {},
   "outputs": [],
   "source": []
  }
 ],
 "metadata": {
  "kernelspec": {
   "display_name": "Python 3",
   "language": "python",
   "name": "python3"
  },
  "language_info": {
   "codemirror_mode": {
    "name": "ipython",
    "version": 3
   },
   "file_extension": ".py",
   "mimetype": "text/x-python",
   "name": "python",
   "nbconvert_exporter": "python",
   "pygments_lexer": "ipython3",
   "version": "3.10.6"
  },
  "orig_nbformat": 4,
  "vscode": {
   "interpreter": {
    "hash": "15f7fb6bfa40f6d98bec429272306fda6b1744d745c4cccbf28593f1f78abeba"
   }
  }
 },
 "nbformat": 4,
 "nbformat_minor": 2
}
