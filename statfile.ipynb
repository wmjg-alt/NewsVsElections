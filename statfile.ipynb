{
 "cells": [
  {
   "cell_type": "code",
   "execution_count": 1,
   "metadata": {},
   "outputs": [],
   "source": [
    "import pandas as pd\n",
    "import matplotlib.pyplot as plt\n",
    "from collections import Counter\n",
    "from data_manipulation import preproc\n",
    "from nltk.corpus import stopwords\n",
    "from data_manipulation import candidate_list_split\n",
    "sw = stopwords.words('english')\n",
    "head_split = \" ~ \""
   ]
  },
  {
   "cell_type": "code",
   "execution_count": 2,
   "metadata": {},
   "outputs": [
    {
     "name": "stdout",
     "output_type": "stream",
     "text": [
      "start data 10798\n",
      "num of races: 2561\n",
      "avg num of participants in a race: 1.9010517278385919\n",
      "processed data 4659\n"
     ]
    }
   ],
   "source": [
    "data = pd.read_csv('NEWfull_with_headlines.csv', encoding='utf8')\n",
    "print(\"start data\",len(data))\n",
    "data = preproc(data)\n",
    "print('processed data',len(data))"
   ]
  },
  {
   "cell_type": "code",
   "execution_count": 3,
   "metadata": {},
   "outputs": [
    {
     "data": {
      "text/plain": [
       "3962877246"
      ]
     },
     "execution_count": 3,
     "metadata": {},
     "output_type": "execute_result"
    }
   ],
   "source": [
    "data['totalvotes'].sum()"
   ]
  },
  {
   "cell_type": "code",
   "execution_count": 4,
   "metadata": {},
   "outputs": [
    {
     "data": {
      "text/plain": [
       "0.5496887744151105"
      ]
     },
     "execution_count": 4,
     "metadata": {},
     "output_type": "execute_result"
    }
   ],
   "source": [
    "data['winner'].sum() / len(data)"
   ]
  },
  {
   "cell_type": "code",
   "execution_count": 5,
   "metadata": {},
   "outputs": [],
   "source": [
    "r = data[data['party'] == \"REPUBLICAN\"]\n",
    "d = data[data['party'] == \"DEMOCRAT\"]\n",
    "i = data[(data['party'] != \"REPUBLICAN\")& (data['party'] != \"DEMOCRAT\")]\n",
    "win_dict = {'R_WIN':r['winner'].sum(),\n",
    "            'D_WIN':d['winner'].sum(),\n",
    "            'I_WIN':i['winner'].sum(),\n",
    "            'R_LOSS': 0- (len(r) - r['winner'].sum()),\n",
    "            'D_LOSS': 0- (len(d) - d['winner'].sum()),\n",
    "            'I_LOSS': 0- (len(i) - i['winner'].sum()),}\n",
    "I_dict = {'WIN':win_dict['I_WIN'],\n",
    "          'LOSS':win_dict['I_LOSS'],\n",
    "          'ALL':len(i),}\n",
    "R_dict = {'WIN':win_dict['R_WIN'],\n",
    "          'LOSS':win_dict['R_LOSS'],\n",
    "          'ALL':len(r),}\n",
    "D_dict = {'WIN':win_dict['D_WIN'],\n",
    "          'LOSS':win_dict['D_LOSS'],\n",
    "          'ALL':len(d),}"
   ]
  },
  {
   "cell_type": "code",
   "execution_count": 6,
   "metadata": {},
   "outputs": [
    {
     "data": {
      "image/png": "[encoded data removed]",
      "text/plain": [
       "<Figure size 432x288 with 1 Axes>"
      ]
     },
     "metadata": {
      "needs_background": "light"
     },
     "output_type": "display_data"
    }
   ],
   "source": [
    "data2 = win_dict\n",
    "names = list(data2.keys())\n",
    "values = list(data2.values())\n",
    "fig, ax = plt.subplots()\n",
    "\n",
    "plt.bar(range(len(data2)), values, tick_label=names)\n",
    "plt.show()"
   ]
  },
  {
   "cell_type": "code",
   "execution_count": 7,
   "metadata": {},
   "outputs": [
    {
     "data": {
      "image/png": "[encoded data removed]",
      "text/plain": [
       "<Figure size 432x288 with 1 Axes>"
      ]
     },
     "metadata": {
      "needs_background": "light"
     },
     "output_type": "display_data"
    },
    {
     "name": "stdout",
     "output_type": "stream",
     "text": [
      "[(2020, 908), (2004, 839), (2000, 830), (2002, 714), (2006, 684), (2016, 167), (2008, 164), (2012, 162), (2018, 64), (2010, 64), (2014, 63)]\n"
     ]
    }
   ],
   "source": [
    "c_year = Counter(data['year'])\n",
    "plt.bar(*zip(*c_year.most_common()))\n",
    "plt.show()\n",
    "print(c_year.most_common())"
   ]
  },
  {
   "cell_type": "code",
   "execution_count": 8,
   "metadata": {},
   "outputs": [
    {
     "name": "stdout",
     "output_type": "stream",
     "text": [
      "0.0\t0.1\t0\t0\t0.0\n",
      "0.1\t0.2\t20\t38\t0.01244902339557845\n",
      "0.2\t0.3\t223\t247\t0.10088001717106675\n",
      "0.3\t0.4\t525\t369\t0.19188667095943335\n",
      "0.4\t0.5\t458\t410\t0.1863060742648637\n",
      "0.5\t0.6\t420\t469\t0.19081347928740072\n",
      "0.6\t0.7\t398\t521\t0.19725262931959647\n",
      "0.7\t0.8\t230\t162\t0.0841382270873578\n",
      "0.8\t0.9\t48\t21\t0.014810045074050225\n",
      "0.9\t1.0\t0\t0\t0.0\n"
     ]
    },
    {
     "data": {
      "image/png": "[encoded data removed]",
      "text/plain": [
       "<Figure size 432x288 with 1 Axes>"
      ]
     },
     "metadata": {
      "needs_background": "light"
     },
     "output_type": "display_data"
    }
   ],
   "source": [
    "dembook = []\n",
    "repbook = []\n",
    "sharebook = []\n",
    "for i in range(0,10):\n",
    "    i = round(i* 0.1,1)\n",
    "    j = round(i+1* 0.1,1)\n",
    "    dshare = len(data[((data['percentvote'] > i) & (data['percentvote'] <= j)) & (data['party'] == \"DEMOCRAT\")])\n",
    "    rshare = len(data[((data['percentvote'] > i) & (data['percentvote'] <= j)) & (data['party'] == \"REPUBLICAN\")])\n",
    "    print(i, j, dshare , rshare, (rshare+dshare) / len(data), sep='\\t')\n",
    "    dembook.append((j,dshare))\n",
    "    repbook.append((j,rshare))\n",
    "    sharebook.append(((i+j)/2,(rshare+dshare) / len(data)))\n",
    "\n",
    "plt.scatter(*zip(*dembook), c='b', label='dem')\n",
    "plt.scatter(*zip(*repbook), c='r', label='rep')\n",
    "#plt.scatter(*zip(*sharebook), c='black', label='tot')\n",
    "plt.show()"
   ]
  },
  {
   "cell_type": "code",
   "execution_count": 9,
   "metadata": {},
   "outputs": [
    {
     "name": "stdout",
     "output_type": "stream",
     "text": [
      "0\t1000\t661\t595\t0.2695857480145954\n",
      "1000\t2000\t286\t289\t0.12341704228375187\n",
      "2000\t3000\t176\t202\t0.08113329040566646\n",
      "3000\t4000\t136\t131\t0.05730843528654218\n",
      "4000\t5000\t100\t104\t0.0437862202189311\n",
      "5000\t6000\t74\t82\t0.0334835801674179\n",
      "6000\t7000\t48\t79\t0.027259068469628677\n",
      "7000\t8000\t63\t55\t0.02532732345996995\n",
      "8000\t9000\t52\t40\t0.0197467267654003\n",
      "9000\t10000\t43\t42\t0.018244258424554627\n"
     ]
    },
    {
     "data": {
      "image/png": "[encoded data removed]",
      "text/plain": [
       "<Figure size 432x288 with 1 Axes>"
      ]
     },
     "metadata": {
      "needs_background": "light"
     },
     "output_type": "display_data"
    }
   ],
   "source": [
    "dembook = []\n",
    "repbook = []\n",
    "sharebook = []\n",
    "for i in range(0,10):\n",
    "    i = round(i   * 1000, 0)\n",
    "    j = round(i+1 * 1000, 0)\n",
    "    dshare = len(data[((data['headlines'].str.len() > i) & (data['headlines'].str.len() <= j)) \n",
    "                        & (data['party'] == \"DEMOCRAT\")])\n",
    "    rshare = len(data[((data['headlines'].str.len() > i) & (data['headlines'].str.len() <= j)) \n",
    "                        & (data['party'] == \"REPUBLICAN\")])\n",
    "    print(i, j, dshare , rshare, (rshare+dshare) / len(data), sep='\\t')\n",
    "    dembook.append(((i+j)/2,dshare / len(data)))\n",
    "    repbook.append(((i+j)/2,rshare / len(data)))\n",
    "    sharebook.append(((i+j)/2,(rshare+dshare) / len(data)))\n",
    "\n",
    "plt.scatter(*zip(*dembook), c='b', label='dem')\n",
    "plt.scatter(*zip(*repbook), c='r', label='rep')\n",
    "plt.scatter(*zip(*sharebook), c='black', label='tot')\n",
    "plt.show()"
   ]
  },
  {
   "cell_type": "code",
   "execution_count": 10,
   "metadata": {},
   "outputs": [
    {
     "name": "stdout",
     "output_type": "stream",
     "text": [
      "---------SHORT HEADLINES by party winners and losers---------\n",
      "D winner vote mean 0.6194614680040861 \t len mean 488.12455516014234 \t total 281\n",
      "R winner vote mean 0.5939116668126874 \t len mean 467.199203187251 \t total 251\n",
      "D losers vote mean 0.33024724543415124 \t len mean 444.1078947368421 \t total 380\n",
      "R losers vote mean 0.3106882005484787 \t len mean 428.7151162790698 \t total 344\n",
      "\n",
      "      year          state state_po  state_fips  state_cen  state_ic    office  \\\n",
      "36    2020     NEW JERSEY       NJ          34         22        12  US HOUSE   \n",
      "40    2020       VIRGINIA       VA          51         54        40  US HOUSE   \n",
      "45    2000  MASSACHUSETTS       MA          25         14         3  US HOUSE   \n",
      "49    2002       COLORADO       CO           8         84        62  US HOUSE   \n",
      "63    2020        INDIANA       IN          18         32        22  US HOUSE   \n",
      "...    ...            ...      ...         ...        ...       ...       ...   \n",
      "4614  2002           OHIO       OH          39         31        24  US HOUSE   \n",
      "4616  2000      LOUISIANA       LA          22         72        45  US HOUSE   \n",
      "4629  2004       KENTUCKY       KY          21         61        51  US HOUSE   \n",
      "4643  2002      TENNESSEE       TN          47         62        54  US HOUSE   \n",
      "4657  2006       NEW YORK       NY          36         21        13  US HOUSE   \n",
      "\n",
      "               candidate  candidatevotes  totalvotes  ...        date  \\\n",
      "36        TOM MALINOWSKI          219629      433947  ...  2020-11-03   \n",
      "40       JENNIFER WEXTON          268734      475546  ...  2020-11-03   \n",
      "45       MARTIN T MEEHAN          199601      268461  ...  2000-11-07   \n",
      "49        STAN MATSUNAKA           87499      209955  ...  2002-11-05   \n",
      "63            MARK LEYVA          132247      326948  ...  2020-11-03   \n",
      "...                  ...             ...         ...  ...         ...   \n",
      "4614   DENNIS J KUCINICH          129997      175536  ...  2002-11-05   \n",
      "4616  W J \"BILLY\" TAUZIN          143446      183960  ...  2000-11-07   \n",
      "4629           RON LEWIS          185394      272979  ...  2004-11-02   \n",
      "4643       JOHN S TANNER          117811      167970  ...  2002-11-05   \n",
      "4657    CAROLYN MCCARTHY           93041      170640  ...  2006-11-07   \n",
      "\n",
      "         candidate_norm       party  \\\n",
      "36       TOM MALINOWSKI    DEMOCRAT   \n",
      "40      JENNIFER WEXTON    DEMOCRAT   \n",
      "45      MARTIN T MEEHAN    DEMOCRAT   \n",
      "49       STAN MATSUNAKA    DEMOCRAT   \n",
      "63           MARK LEYVA  REPUBLICAN   \n",
      "...                 ...         ...   \n",
      "4614  DENNIS J KUCINICH    DEMOCRAT   \n",
      "4616   W J BILLY TAUZIN  REPUBLICAN   \n",
      "4629          RON LEWIS  REPUBLICAN   \n",
      "4643      JOHN S TANNER    DEMOCRAT   \n",
      "4657   CAROLYN MCCARTHY    DEMOCRAT   \n",
      "\n",
      "                                        candidates  \\\n",
      "36               TOM MALINOWSKI ~ THOMAS H KEAN JR   \n",
      "40             JENNIFER WEXTON ~ ALISCIA N ANDREWS   \n",
      "45         MARTIN T MEEHAN ~ BLANK VOTE/SCATTERING   \n",
      "49             MARILYN N MUSGRAVE ~ STAN MATSUNAKA   \n",
      "63                      FRANK J MRVAN ~ MARK LEYVA   \n",
      "...                                            ...   \n",
      "4614               DENNIS J KUCINICH ~ JON A HEBEN   \n",
      "4616  W J \"BILLY\" TAUZIN ~ EDWIN J \"EDDIE\" ALBARES   \n",
      "4629                        RON LEWIS ~ ADAM SMITH   \n",
      "4643                   JOHN S TANNER ~ MAT MCCLAIN   \n",
      "4657        CAROLYN MCCARTHY ~ MARTIN W BLESSINGER   \n",
      "\n",
      "                                              headlines  \\\n",
      "36    elecciones en estados unidos los temores del d...   \n",
      "40    prochoice caucus cochairs lee and degette proc...   \n",
      "45    in lugar up the opponent points over johnson t...   \n",
      "49    no the opponent love from the greeley tribune ...   \n",
      "63    cprc in the news chicago tribune denver post d...   \n",
      "...                                                 ...   \n",
      "4614  congressional votes for nytoh the week of the ...   \n",
      "4616  iowans lose good friend and reporter in skipwe...   \n",
      "4629  house approves conference report on jobs bill ...   \n",
      "4643  kathy kristof irs hiding tip income can bring ...   \n",
      "4657  esquire endorses america the opponent the oppo...   \n",
      "\n",
      "                                                   file  \\\n",
      "36    d:\\FALL2022\\capstone\\NewsData\\TOM MALINOWSKI_1...   \n",
      "40    d:\\FALL2022\\capstone\\NewsData\\JENNIFER WEXTON_...   \n",
      "45    d:\\FALL2022\\capstone\\NewsData\\MARTIN T MEEHAN_...   \n",
      "49    d:\\FALL2022\\capstone\\NewsData\\STAN MATSUNAKA_1...   \n",
      "63    d:\\FALL2022\\capstone\\NewsData\\MARK LEYVA_11-3-...   \n",
      "...                                                 ...   \n",
      "4614  d:\\FALL2022\\capstone\\NewsData\\DENNIS J KUCINIC...   \n",
      "4616  d:\\FALL2022\\capstone\\NewsData\\W J BILLY TAUZIN...   \n",
      "4629  d:\\FALL2022\\capstone\\NewsData\\RON LEWIS_11-2-2...   \n",
      "4643  d:\\FALL2022\\capstone\\NewsData\\JOHN S TANNER_11...   \n",
      "4657  d:\\FALL2022\\capstone\\NewsData\\CAROLYN MCCARTHY...   \n",
      "\n",
      "                     opponents winner numcandidates  votedisparity  \n",
      "36            THOMAS H KEAN JR   True             1              0  \n",
      "40           ALISCIA N ANDREWS   True             1              0  \n",
      "45       BLANK VOTE/SCATTERING   True             1              0  \n",
      "49          MARILYN N MUSGRAVE   True             1              0  \n",
      "63               FRANK J MRVAN   True             1              0  \n",
      "...                        ...    ...           ...            ...  \n",
      "4614               JON A HEBEN   True             1              0  \n",
      "4616   EDWIN J \"EDDIE\" ALBARES   True             1              0  \n",
      "4629                ADAM SMITH   True             1              0  \n",
      "4643               MAT MCCLAIN   True             1              0  \n",
      "4657       MARTIN W BLESSINGER   True             1              0  \n",
      "\n",
      "[467 rows x 22 columns]\n"
     ]
    }
   ],
   "source": [
    "dWinX = data[((data['headlines'].str.len() > 0) & (data['headlines'].str.len() <= 1000)) & ((data['winner']==True) & (data['party'] == \"DEMOCRAT\"))]\n",
    "rWinX = data[((data['headlines'].str.len() > 0) & (data['headlines'].str.len() <= 1000)) & ((data['winner']==True) & (data['party'] == \"REPUBLICAN\"))]\n",
    "dLosX = data[((data['headlines'].str.len() > 0) & (data['headlines'].str.len() <= 1000)) & ((data['winner']==False) & (data['party'] == \"DEMOCRAT\"))]\n",
    "rLosX = data[((data['headlines'].str.len() > 0) & (data['headlines'].str.len() <= 1000)) & ((data['winner']==False) & (data['party'] == \"REPUBLICAN\"))]\n",
    "\n",
    "print(\"---------SHORT HEADLINES by party winners and losers---------\")\n",
    "print('D','winner','vote mean',dWinX['percentvote'].mean(),'\\t', 'len mean', dWinX['headlines'].str.len().mean(), \"\\t total\", len(dWinX))\n",
    "print('R','winner','vote mean',rWinX['percentvote'].mean(),'\\t', 'len mean', rWinX['headlines'].str.len().mean(), \"\\t total\", len(rWinX))\n",
    "print('D','losers','vote mean',dLosX['percentvote'].mean(),'\\t', 'len mean', dLosX['headlines'].str.len().mean(), \"\\t total\", len(dLosX))\n",
    "print('R','losers','vote mean',rLosX['percentvote'].mean(),'\\t', 'len mean', rLosX['headlines'].str.len().mean(), \"\\t total\", len(rLosX))\n",
    "print()\n",
    "print(data[data['numcandidates'] != 2])"
   ]
  },
  {
   "cell_type": "code",
   "execution_count": 18,
   "metadata": {},
   "outputs": [],
   "source": [
    "def find_elections(year:int, state:str, office:str=None):\n",
    "    return data[((data.year == year) & (data.state == state)) & (True if not office else data.office==office)]"
   ]
  },
  {
   "cell_type": "code",
   "execution_count": 39,
   "metadata": {},
   "outputs": [
    {
     "name": "stdout",
     "output_type": "stream",
     "text": [
      "BIDEN, JOSEPH R. JR\tFalse\t17037\n",
      "('opponent', 3383)\t('candidate', 306)\t('debate', 98)\t('election', 68)\t('campaign', 56)\t('new', 45)\t('voters', 41)\t('virus', 39)\t('democrats', 37)\t('joe', 36)\t('president', 36)\t('states', 35)\t('final', 33)\t('poll', 33)\t('presidential', 32)\n",
      "TRUMP, DONALD J.\tTrue\t20301\n",
      "('opponent', 3075)\t('candidate', 961)\t('president', 161)\t('covid', 141)\t('election', 127)\t('us', 109)\t('coronavirus', 92)\t('states', 73)\t('positive', 71)\t('joe', 69)\t('campaign', 63)\t('house', 61)\t('et', 58)\t('says', 52)\t('aired', 51)\n"
     ]
    }
   ],
   "source": [
    "for id,df in find_elections(2020, \"OHIO\", office=\"US PRESIDENT\").iterrows():\n",
    "    print(df['candidate'], df['winner'], len(df['headlines'].split()), sep='\\t')\n",
    "    print(*Counter([wd for wd in df['headlines'].split() if wd not in sw]).most_common(15),sep='\\t')"
   ]
  },
  {
   "cell_type": "code",
   "execution_count": 40,
   "metadata": {},
   "outputs": [
    {
     "name": "stdout",
     "output_type": "stream",
     "text": [
      "BUSH, GEORGE W.\tTrue\t15386\n",
      "('opponent', 3195)\t('candidate', 561)\t('campaign', 142)\t('presidential', 105)\t('election', 76)\t('race', 65)\t('ohio', 57)\t('states', 54)\t('candidates', 53)\t('debate', 43)\t('final', 39)\t('us', 39)\t('voters', 39)\t('president', 37)\t('polls', 35)\n",
      "GORE, AL\tFalse\t1367\n",
      "('opponent', 301)\t('candidate', 32)\t('campaign', 14)\t('debate', 10)\t('presidential', 9)\t('ohio', 9)\t('candidates', 7)\t('election', 7)\t('race', 5)\t('clinton', 5)\t('voters', 4)\t('last', 4)\t('role', 3)\t('votes', 3)\t('governor', 3)\n"
     ]
    }
   ],
   "source": [
    "for id,df in find_elections(2000, \"OHIO\", office=\"US PRESIDENT\").iterrows():\n",
    "    print(df['candidate'], df['winner'], len(df['headlines'].split()), sep='\\t')\n",
    "    print(*Counter([wd for wd in df['headlines'].split() if wd not in sw]).most_common(15),sep='\\t')"
   ]
  },
  {
   "cell_type": "code",
   "execution_count": 8,
   "metadata": {},
   "outputs": [],
   "source": [
    "TESTSET = pd.read_csv('models/test.csv').reset_index(drop=True)"
   ]
  },
  {
   "cell_type": "code",
   "execution_count": 9,
   "metadata": {},
   "outputs": [],
   "source": [
    "example = TESTSET.sample(1)"
   ]
  },
  {
   "cell_type": "code",
   "execution_count": 18,
   "metadata": {},
   "outputs": [
    {
     "name": "stdout",
     "output_type": "stream",
     "text": [
      "Counter({'the': 4228, 'opponent': 3290, 'candidate': 681, 'in': 276, 'to': 238, 'for': 174, 'and': 158, 'campaign': 152, 'presidential': 119, 'on': 114, 'of': 112, 'a': 103, 'election': 96, 'race': 71, 'candidates': 69, 'states': 58, 'as': 53, 'pennsylvania': 53, 'polls': 52, 'is': 48, 'with': 47, 'president': 45, 'votes': 41, 'final': 40, 'days': 39, 'us': 37, 'day': 37, 'from': 37, 'at': 36, 'up': 36, 'debate': 36, 'governor': 36, 'vote': 33, 'campaigns': 33, 'his': 31, 'state': 29, 'florida': 27, 'gop': 26, 'over': 26, 'be': 25, 'voters': 25, 'key': 24, 'nader': 24, 'will': 24, 'political': 23, 'house': 23, 'by': 22, 'last': 22, 'white': 22, 'new': 22, 'go': 22, 'rally': 21, 'lead': 21, 'swing': 20, 'republican': 20, 'ad': 20, 'battle': 20, 'has': 19, 'wire': 18, 'close': 18, 'texas': 18, 'not': 18, 'one': 18, 'out': 18, 'social': 18, 'security': 18, 'says': 18, 'news': 18, 'battleground': 17, 'electoral': 16, 'poll': 16, 'tight': 16, 'trail': 16, 'evs': 16, 'big': 16, 'into': 16, 'both': 16, 'clinton': 15, 'could': 15, 'dui': 15, 'win': 15, 'democrats': 15, 'or': 15, 'their': 14, 'but': 14, 'national': 14, 'campaigning': 14, 'governors': 14, 'leading': 14, 'barbara': 14, 'are': 14, 'pa': 14, 'down': 13, 'push': 13, 'may': 13, 'women': 13, 'roundup': 13, 'about': 13, 'plan': 13, 'michigan': 13, 'attack': 13, 'latest': 12, 'he': 12, 'get': 12, 'vice': 12, 'discusses': 12, 'have': 12, 'arrest': 12, 'visit': 12, 'interview': 11, 'too': 11, 'stump': 11, 'focus': 11, 'its': 11, 'november': 11, 'ridge': 11, 'stumps': 11, 'heat': 11, 'former': 11, 'republicans': 11, 'call': 10, 'make': 10, 'an': 10, 'support': 10, 'edge': 10, 'cheney': 10, 'hits': 10, 'more': 10, 'before': 10, 'dead': 10, 'still': 10, 'heads': 9, 'what': 9, 'ticker': 9, 'nra': 9, 'hit': 9, 'this': 9, 'home': 9, 'issues': 9, 'hard': 9, 'do': 9, 'politics': 9, 'wisconsin': 9, 'tv': 9, 'ads': 9, 'lieberman': 9, 'show': 9, 'take': 8, 'second': 8, 'after': 8, 'until': 8, 'holds': 8, 'attacks': 8, 'tracking': 8, 'brief': 8, 'events': 8, 'pulled': 8, 'reports': 8, 'would': 8, 'draws': 8, 'stretch': 8, 'back': 8, 'tour': 8, 'who': 8, 'leads': 8, 'son': 8, 'no': 7, 'college': 7, 'week': 7, 'they': 7, 'gains': 7, 'off': 7, 'midwest': 7, 'west': 7, 'that': 7, 'two': 7, 'eds': 7, 'cox': 7, 'staff': 7, 'plans': 7, 'years': 7, 'other': 7, 'discuss': 7, 'through': 7, 'most': 7, 'lastminute': 7, 'say': 7, 'how': 7, 'democratic': 7, 'saturday': 7, 'issue': 7, 'record': 7, 'undecided': 7, 'all': 7, 'talk': 7, 'character': 7, 'here': 7, 'end': 7, 'while': 7, 'goes': 6, 'time': 6, 'prosperity': 6, 'government': 6, 'people': 6, 'can': 6, 'countdown': 6, 'give': 6, 'tom': 6, 'stops': 6, 'homestretch': 6, 'senator': 6, 'barnstorm': 6, 'some': 6, 'camp': 6, 'turf': 6, 'it': 6, 'groups': 6, 'remains': 6, 'foreign': 6, 'california': 6, 'first': 6, 'john': 6, 'today': 6, 'shows': 6, 'mideast': 6, 'visits': 6, 'family': 5, 'tells': 5, 'help': 5, 'scranton': 5, 'area': 5, 'decide': 5, 'messages': 5, 'crowd': 5, 'rivals': 5, 'party': 5, 'stay': 5, 'washington': 5, 'buchanan': 5, 'endorsements': 5, 'set': 5, 'each': 5, 'finish': 5, 'gets': 5, 'laura': 5, 'york': 5, 'five': 5, 'right': 5, 'environment': 5, 'democrat': 5, 'powell': 5, 'air': 5, 'him': 5, 'general': 5, 'policy': 5, 'past': 5, 'missouri': 5, 'role': 5, 'bus': 5, 'leadership': 5, 'prepare': 5, 'different': 5, 'contest': 5, 'strategy': 5, 'ahead': 5, 'voter': 5, 'just': 5, 'uss': 5, 'cole': 5, 'nears': 5, 'races': 5, 'dubya': 5, 'crisis': 5, 'boost': 5, 'turnout': 5, 'philadelphia': 5, 'business': 4, 'nighttime': 4, 'makes': 4, 'fla': 4, 'drug': 4, 'early': 4, 'crucial': 4, 'third': 4, 'game': 4, 'continue': 4, 'narrow': 4, 'questions': 4, 'radio': 4, 'address': 4, 'closer': 4, 'report': 4, 'wars': 4, 'america': 4, 'victory': 4, 'elections': 4, 'enough': 4, 'need': 4, 'tax': 4, 'fight': 4, 'message': 4, 'dirty': 4, 'itineraries': 4, 'womens': 4, 'money': 4, 'four': 4, 'spending': 4, 'thompson': 4, 'gov': 4, 'gun': 4, 'touts': 4, 'dont': 4, 'where': 4, 'senate': 4, 'education': 4, 'critical': 4, 'wednesday': 4, 'phila': 4, 'hope': 4, 'appear': 4, 'special': 4, 'ralph': 4, 'weekend': 4, 'calls': 4, 'almost': 4, 'left': 4, 'county': 4, 'trade': 4, 'heartland': 4, 'east': 4, 'see': 4, 'tossup': 4, 'millions': 4, 'blitz': 4, 'analysis': 4, 'rallies': 4, 'trying': 4, 'keystone': 4, 'million': 4, 'try': 4, 'lap': 4, 'war': 4, 'huge': 4, 'addresses': 4, 'drunk': 4, 'driving': 4, 'ago': 4, 'wants': 4, 'changes': 4, 'remarks': 4, 'friday': 4, 'away': 4, 'very': 4, 'iowa': 4, 'am': 4, 'line': 4, 'expected': 4, 'six': 4, 'confident': 4, 'rhetoric': 4, 'care': 4, 'story': 4, 'claim': 4, 'hes': 4, 'prez': 3, 'country': 3, 'stop': 3, 'signs': 3, 'against': 3, 'industry': 3, 'numbers': 3, 'victor': 3, 'emerge': 3, 'weeks': 3, 'himself': 3, 'stumping': 3, 'scandals': 3, 'running': 3, 'winning': 3, 'william': 3, 'your': 3, 'agenda': 3, 'fathers': 3, 'few': 3, 'strategists': 3, 'budget': 3, 'enter': 3, 'like': 3, 'nightmare': 3, 'predicts': 3, 'targets': 3, 'supporters': 3, 'heston': 3, 'plays': 3, 'defense': 3, 'gaining': 3, 'hopefuls': 3, 'territory': 3, 'adviser': 3, 'good': 3, 'focuses': 3, 'called': 3, 'debates': 3, 'tightens': 3, 'attends': 3, 'lobby': 3, 'backers': 3, 'works': 3, 'newspaper': 3, 'world': 3, 'inside': 3, 'camps': 3, 'every': 3, 'dems': 3, 'elect': 3, 'factor': 3, 'minnesota': 3, 'chance': 3, 'students': 3, 'clean': 3, 'night': 3, 'defends': 3, 'again': 3, 'clear': 3, 'case': 3, 'man': 3, 'denies': 3, 'experience': 3, 'either': 3, 'same': 3, 'amount': 3, 'does': 3, 'hold': 3, 'illinois': 3, 'trouble': 3, 'middle': 3, 'toward': 3, 'canada': 3, 'react': 3, 'avoids': 3, 'rendell': 3, 'tours': 3, 'abortion': 3, 'shadow': 3, 'helped': 3, 'shape': 3, 'tennessee': 3, 'grabs': 3, 'blasts': 3, 'promises': 3, 'seeking': 3, 'battlegrounds': 3, 'u': 3, 'trip': 3, 'runs': 3, 'power': 3, 'young': 3, 'card': 3, 'spend': 3, 'being': 3, 'pushes': 3, 'others': 3, 'own': 3, 'picks': 3, 'behind': 3, 'appears': 3, 'dash': 3, 'saying': 3, 'following': 3, 'takes': 3, 'target': 3, 'score': 3, 'revelation': 3, 'moves': 3, 'nights': 3, 'cabinet': 3, 'todays': 3, 'if': 3, 'colin': 3, 'between': 3, 'now': 3, 'top': 3, 'nov': 3, 'r': 3, 'delivers': 3, 'taped': 3, 'broadcast': 3, 'counting': 3, 'ready': 3, 'bid': 3, 'tricks': 3, 'begins': 3, 'marathon': 3, 'tone': 3, 'volume': 3, 'run': 3, 'vs': 3, 'health': 3, 'arkansas': 3, 'making': 3, 'fights': 3, 'lastditch': 3, 'dnc': 3, 'decision': 3, 'woos': 3, 'critics': 3, 'why': 3, 'looking': 3, 'charge': 3, 'you': 3, 'press': 3, 'roundtable': 3, 'lose': 3, 'dateline': 3, 'break': 3, 'hell': 2, 'pollsters': 2, 'senior': 2, 'elector': 2, 'plea': 2, 'lined': 2, 'positions': 2, 'face': 2, 'administration': 2, 'steel': 2, 'gush': 2, 'bore': 2, 'urges': 2, 'military': 2, 'headlines': 2, 'round': 2, 'pledges': 2, 'clintongore': 2, 'school': 2, 'henry': 2, 'outlines': 2, 'were': 2, 'shifting': 2, 'partisan': 2, 'success': 2, 'bill': 2, 'rights': 2, 'uncertainty': 2, 'look': 2, 'options': 2, 'sprint': 2, 'smart': 2, 'frantic': 2, 'hours': 2, 'catholic': 2, 'africanamerican': 2, 'three': 2, 'real': 2, 'michael': 2, 'barone': 2, 'notes': 2, 'quotes': 2, 'death': 2, 'student': 2, 'touring': 2, 'fmr': 2, 'let': 2, 'roll': 2, 'arrives': 2, 'dad': 2, 'helping': 2, 'expresident': 2, 'speaks': 2, 'values': 2, 'live': 2, 'billion': 2, 'targeted': 2, 'taxcut': 2, 'iii': 2, 'actual': 2, 'daily': 2, 'wrapup': 2, 'near': 2, 'shore': 2, 'reform': 2, 'comment': 2, 'nations': 2, 'sunshine': 2, 'focusing': 2, 'efforts': 2, 'possible': 2, 'congress': 2, 'mark': 2, 'summary': 2, 'gmt': 2, 'uncommitted': 2, 'continues': 2, 'also': 2, 'study': 2, 'quick': 2, 'celebrities': 2, 'slams': 2, 'struggle': 2, 'fear': 2, 'green': 2, 'full': 2, 'nipandtuck': 2, 'integrity': 2, 'job': 2, 'put': 2, 'dc': 2, 'texan': 2, 'youth': 2, 'suburbs': 2, 'coming': 2, 'tomorrow': 2, 'virginia': 2, 'indiana': 2, 'approaches': 2, 'agendas': 2, 'tuesday': 2, 'hunts': 2, 'fundraisers': 2, 'best': 2, 'south': 2, 'parties': 2, 'puts': 2, 'ideas': 2, 'lancaster': 2, 'must': 2, 'charges': 2, 'sen': 2, 'boxer': 2, 'mexico': 2, 'barbs': 2, 'mile': 2, 'neighborhood': 2, 'tailor': 2, 'lady': 2, 'activists': 2, 'gain': 2, 'under': 2, 'importance': 2, 'strong': 2, 'seniors': 2, 'talks': 2, 'members': 2, 'burbs': 2, 'living': 2, 'remain': 2, 'fire': 2, 'engler': 2, 'shrug': 2, 'balkans': 2, 'head': 2, 'economy': 2, 'told': 2, 'road': 2, 'ohio': 2, 'features': 2, 'similar': 2, 'briefing': 2, 'progun': 2, 'pittsburgh': 2, 'cash': 2, 'effort': 2, 'even': 2, 'shifts': 2, 'daughter': 2, 'doing': 2, 'heart': 2, 'assails': 2, 'keeping': 2, 'distance': 2, 'aid': 2, 'argues': 2, 'conservatism': 2, 'christian': 2, 'bring': 2, 'won': 2, 'falls': 2, 'side': 2, 'proposals': 2, 'strength': 2, 'carries': 2, 'hall': 2, 'showing': 2, 'sharp': 2, 'policies': 2, 'coal': 2, 'important': 2, 'advantage': 2, 'coaches': 2, 'mr': 2, 'giving': 2, 'calling': 2, 'despite': 2, 'minorities': 2, 'blacks': 2, 'sticking': 2, 'fox': 2, 'sunday': 2, 'center': 2, 'city': 2, 'said': 2, 'counts': 2, 'nearly': 2, 'scramble': 2, 'houston': 2, 'once': 2, 'debt': 2, 'sweeping': 2, 'swap': 2, 'minute': 2, 'mind': 2, 'tx': 2, 'ground': 2, 'mother': 2, 'wrap': 2, 'endorses': 2, 'disclosure': 2, 'yearold': 2, 'sends': 2, 'talking': 2, 'prize': 2, 'smith': 2, 'avoid': 2, 'strategies': 2, 'embargoed': 2, 'response': 2, 'front': 2, 'group': 2, 'pct': 2, 'mom': 2, 'which': 2, 'clash': 2, 'coverage': 2, 'nearer': 2, 'speaking': 2, 'hour': 2, 'retirement': 2, 'future': 2, 'hopes': 2, 'personality': 2, 'leaves': 2, 'moving': 2, 'pundits': 2, 'turned': 2, 'since': 2, 'decries': 2, 'crank': 2, 'gallup': 2, 'swings': 2, 'interest': 2, 'forces': 2, 'turn': 2, 'advertising': 2, 'base': 2, 'host': 2, 'blast': 2, 'made': 2, 'offer': 2, 'families': 2, 'low': 2, 'year': 2, 'her': 2, 'spin': 2, 'convince': 2, 'another': 2, 'test': 2, 'gaffe': 2, 'nj': 2, 'jersey': 2, 'corzine': 2, 'winner': 2, 'speak': 2, 'guns': 2, 'developments': 2, 'sharpens': 2, 'eye': 2, 'valley': 2, 'complacent': 2, 'seizes': 2, 'balance': 2, 'winds': 2, 'black': 2, 'analysts': 2, 'many': 2, 'strike': 2, 'churches': 2, 'wooing': 2, 'returns': 2, 'violence': 2, 'heading': 2, 'credibility': 2, 'proposal': 2, 'ties': 2, 'boondoggle': 2, 'gap': 2, 'enthusiasm': 2, 'lititz': 2, 'calmer': 2, 'traditionally': 2, 'fundraiser': 2, 'spot': 2, 'criticizes': 2, 'tactics': 2, 'negative': 2, 'likely': 2, 'till': 2, 'step': 2, 'daley': 2, 'records': 2, 'grueling': 2, 'happy': 2, 'observe': 2, 'history': 2, 'admits': 2, 'wins': 2, 'fun': 2, 'when': 2, 'pull': 2, 'highlights': 2, 'yet': 2, 'return': 2, 'nbc': 2, 'trillion': 2, 'desperation': 2, 'impact': 2, 'naacp': 2, 'series': 2, 'mate': 2, 'turns': 2, 'enters': 2, 'abilities': 2, 'appeals': 2, 'detroit': 2, 'pasco': 2, 'strategist': 2, 'debating': 2, 'hasnt': 2, 'mclaughlin': 2, 'phil': 1, 'donahue': 1, 'influence': 1, 'bailouts': 1, 'tradition': 1, 'thanks': 1, 'chances': 1, 'without': 1, 'denounces': 1, 'toxic': 1, 'entertainment': 1, 'depicts': 1, 'bought': 1, 'companies': 1, 'hmos': 1, 'district': 1, 'dave': 1, 'regis': 1, 'rosie': 1, 'sweeps': 1, 'citizens': 1, 'tshirts': 1, 'cheers': 1, 'bag': 1, 'gingrich': 1, 'pitt': 1, 'level': 1, 'check': 1, 'agrees': 1, 'protect': 1, 'true': 1, 'form': 1, 'observed': 1, 'preparing': 1, 'happen': 1, 'uses': 1, 'brass': 1, 'distinguish': 1, 'sister': 1, 'courts': 1, 'maine': 1, 'doro': 1, 'koch': 1, 'describes': 1, 'inclusive': 1, 'drinkdriving': 1, 'thirdparty': 1, 'effectiveness': 1, 'point': 1, 'respect': 1, 'alludes': 1, 'profile': 1, 'poster': 1, 'boys': 1, 'successful': 1, 'exhibit': 1, 'haverford': 1, 'traces': 1, 'tickets': 1, 'harrison': 1, 'souls': 1, 'scoreboard': 1, 'mn': 1, 'flip': 1, 'much': 1, 'polling': 1, 'owns': 1, 'rocksolid': 1, 'demographics': 1, 'shooin': 1, 'brokaw': 1, 'interviews': 1, 'frontrunners': 1, 'undress': 1, 'starting': 1, 'patients': 1, 'cross': 1, 'paths': 1, 'mean': 1, 'decides': 1, 'prays': 1, 'lashing': 1, 'realize': 1, 'relief': 1, 'vital': 1, 'succeed': 1, 'capture': 1, 'oppose': 1, 'environmental': 1, 'causes': 1, 'pumps': 1, 'crowds': 1, 'carry': 1, 'we': 1, 'freedom': 1, 'draggingdeath': 1, 'suddenly': 1, 'serious': 1, 'penalty': 1, 'tenn': 1, 'david': 1, 'gergen': 1, 'times': 1, 'map': 1, 'redeploying': 1, 'mustwin': 1, 'expands': 1, 'track': 1, 'lewiston': 1, 'biddeford': 1, 'error': 1, 'teams': 1, 'along': 1, 'spoofers': 1, 'proposes': 1, 'combat': 1, 'teen': 1, 'abuse': 1, 'campaigned': 1, 'fred': 1, 'reverend': 1, 'jesse': 1, 'jackson': 1, 'month': 1, 'boozy': 1, 'wobbles': 1, 'nerdiness': 1, 'comes': 1, 'gonna': 1, 'jacksonville': 1, 'avenue': 1, 'possibility': 1, 'gladden': 1, 'only': 1, 'rest': 1, 'frightened': 1, 'polluted': 1, 'swells': 1, 'distracted': 1, 'sniping': 1, 'reviewing': 1, 'outcomes': 1, 'comedy': 1, 'fall': 1, 'short': 1, 'taking': 1, 'plotkin': 1, 'analyzes': 1, 'editors': 1, 'publishers': 1, 'pat': 1, 'robertson': 1, 'dick': 1, 'xinhua': 1, 'investigative': 1, 'view': 1, 'using': 1, 'weapon': 1, 'citing': 1, 'confronts': 1, 'headon': 1, 'endorse': 1, 'seattle': 1, 'actor': 1, 'lahti': 1, 'scared': 1, 'beliefs': 1, 'babs': 1, 'prepared': 1, 'late': 1, 'results': 1, 'might': 1, 'known': 1, 'maintaining': 1, 'threat': 1, 'lakeland': 1, 'criticized': 1, 'stressing': 1, 'scenario': 1, 'maintain': 1, 'assault': 1, 'play': 1, 'begin': 1, 'chases': 1, 'nominees': 1, 'our': 1, 'overseas': 1, 'damper': 1, 'campaigners': 1, 'bringing': 1, 'govs': 1, 'bucks': 1, 'onceinalifetime': 1, 'research': 1, 'digest': 1, 'did': 1, 'anyone': 1, 'believe': 1, 'revisit': 1, 'whirlwind': 1, 'wraps': 1, 'sorry': 1, 'hovers': 1, 'rallying': 1, 'attempting': 1, 'sidestep': 1, 'volatile': 1, 'increasingly': 1, 'likes': 1, 'neshaminy': 1, 'gearing': 1, 'use': 1, 'fifteen': 1, 'neckandneck': 1, 'views': 1, 'society': 1, 'poor': 1, 'fully': 1, 'accord': 1, 'churchs': 1, 'fistful': 1, 'quest': 1, 'less': 1, 'combative': 1, 'f': 1, 'straightforward': 1, 'whos': 1, 'exaggerating': 1, 'truth': 1, 'orphan': 1, 'lacks': 1, 'vision': 1, 'concentrating': 1, 'direction': 1, 'funds': 1, 'defensive': 1, 'words': 1, 'obscure': 1, 'exchange': 1, 'invokes': 1, 'enormous': 1, 'sight': 1, 'reigning': 1, 'cats': 1, 'dogs': 1, 'express': 1, 'concern': 1, 'gaffes': 1, 'pataki': 1, 'goreations': 1, 'hammers': 1, 'questioning': 1, 'attacking': 1, 'credentials': 1, 'testy': 1, 'dangerous': 1, 'conversation': 1, 'resolve': 1, 'nation': 1, 'travels': 1, 'woo': 1, 'barred': 1, 'differently': 1, 'readjust': 1, 'buzzwords': 1, 'parade': 1, 'appoint': 1, 'tommy': 1, 'dueling': 1, 'follow': 1, 'dynamics': 1, 'simple': 1, 'provide': 1, 'needed': 1, 'concept': 1, 'reagan': 1, 'cuts': 1, 'ford': 1, 'sets': 1, 'phcc': 1, 'calif': 1, 'dozen': 1, 'seem': 1, 'labor': 1, 'unions': 1, 'dads': 1, 'nixon': 1, 'tapes': 1, 'assumes': 1, 'posture': 1, 'bouncing': 1, 'matter': 1, 'industrious': 1, 'intelligent': 1, 'defining': 1, 'sink': 1, 'keene': 1, 'rips': 1, 'taxpayers': 1, 'lawmakers': 1, 'errs': 1, 'hate': 1, 'crime': 1, 'flubs': 1, 'americans': 1, 'tues': 1, 'granted': 1, 'stumbles': 1, 'politician': 1, 'mentions': 1, 'arabamericans': 1, 'era': 1, 'ends': 1, 'flock': 1, 'packaging': 1, 'product': 1, 'playing': 1, 'antigun': 1, 'revealing': 1, 'oprah': 1, 'warns': 1, 'accuses': 1, 'deceptive': 1, 'austin': 1, 'gay': 1, 'community': 1, 'pork': 1, 'derided': 1, 'wrapping': 1, 'overnight': 1, 'steps': 1, 'pouring': 1, 'hotly': 1, 'contesting': 1, 'rich': 1, 'portrays': 1, 'uniter': 1, 'chief': 1, 'shores': 1, 'closing': 1, 'argument': 1, 'namesakes': 1, 'bask': 1, 'reflected': 1, 'fame': 1, 'toledo': 1, 'whistlestop': 1, 'americas': 1, 'united': 1, 'suburbia': 1, 'suburban': 1, 'writes': 1, 'holly': 1, 'yeager': 1, 'estimates': 1, 'wildly': 1, 'differing': 1, 'portraits': 1, 'difference': 1, 'pedigree': 1, 'federal': 1, 'commission': 1, 'circulated': 1, 'condemns': 1, 'fruitless': 1, 'search': 1, 'challenge': 1, 'expanded': 1, 'frightening': 1, 'prospect': 1, 'spoiler': 1, 'deficits': 1, 'visiting': 1, 'hillman': 1, 'recovering': 1, 'mild': 1, 'keys': 1, 'bay': 1, 'launch': 1, 'massive': 1, 'regains': 1, 'streisand': 1, 'leaps': 1, 'restore': 1, 'civility': 1, 'ed': 1, 'jim': 1, 'nicholson': 1, 'lives': 1, 'dies': 1, 'whim': 1, 'waverers': 1, 'bluecollar': 1, 'compassionate': 1, 'buzz': 1, 'grows': 1, 'businessweek': 1, 'onlines': 1, 'dismiss': 1, 'coalition': 1, 'offers': 1, 'guide': 1, 'lost': 1, 'court': 1, 'banning': 1, 'poker': 1, 'vegas': 1, 'pan': 1, 'gold': 1, 'intensifies': 1, 'worried': 1, 'gulf': 1, 'supergun': 1, 'hopeful': 1, 'nastier': 1, 'mad': 1, 'unborn': 1, 'howard': 1, 'going': 1, 'noone': 1, 'so': 1, 'scenes': 1, 'australia': 1, 'favourite': 1, 'spokeswoman': 1, 'simulate': 1, 'town': 1, 'meetings': 1, 'preparation': 1, 'favor': 1, 'swipes': 1, 'doesnt': 1, 'add': 1, 'lobbyists': 1, 'spots': 1, 'ballot': 1, 'appleton': 1, 'analyses': 1, 'jolted': 1, 'newcombe': 1, 'drink': 1, 'clout': 1, 'straitlaced': 1, 'biggest': 1, 'laughs': 1, 'congeniality': 1, 'reputation': 1, 'fake': 1, 'downplay': 1, 'attract': 1, 'pbs': 1, 'alternate': 1, 'eight': 1, 'firedup': 1, 'hill': 1, 'irvings': 1, 'tarrytown': 1, 'sleepy': 1, 'hollow': 1, 'observers': 1, 'passion': 1, 'mock': 1, 'notsoidle': 1, 'speculation': 1, 'populate': 1, 'square': 1, 'season': 1, 'stealthy': 1, 'fronting': 1, 'total': 1, 'dominance': 1, 'raid': 1, 'enemy': 1, 'decisive': 1, 'margin': 1, 'overtures': 1, 'switching': 1, 'latinos': 1, 'largely': 1, 'liberal': 1, 'stalwart': 1, 'edward': 1, 'kennedy': 1, 'lawn': 1, 'lovers': 1, 'rebel': 1, 'mowing': 1, 'curb': 1, 'advisory': 1, 'elected': 1, 'exchanges': 1, 'speed': 1, 'villanova': 1, 'considered': 1, 'range': 1, 'airport': 1, 'van': 1, 'horne': 1, 'settled': 1, 'sba': 1, 'featured': 1, 'nrcc': 1, 'ap': 1, 'pm': 1, 'est': 1, 'thursday': 1, 'jibes': 1, 'zeroes': 1, 'drought': 1, 'michelle': 1, 'kenneth': 1, 'kresyman': 1, 'affected': 1, 'opinion': 1, 'notre': 1, 'dame': 1, 'appearance': 1, 'event': 1, 'mclaughlins': 1, 'guests': 1, 'ronald': 1, 'walters': 1, 'professor': 1, 'university': 1, 'maryland': 1, 'robert': 1, 'woodson': 1, 'enterprise': 1, 'subject': 1, 'hoping': 1, 'cover': 1, 'lot': 1, 'wife': 1, 'drum': 1, 'pas': 1, 'dishonest': 1, 'dumb': 1, 'extraordinary': 1, 'nonsense': 1, 'scandal': 1, 'captivates': 1, 'nationally': 1, 'means': 1, 'arlen': 1, 'specter': 1, 'interviewed': 1, 'endgamevote': 1, 'condemn': 1, 'deliver': 1, 'association': 1, 'media': 1, 'frenzy': 1, 'children': 1, 'asking': 1, 'harbinger': 1, 'presidency': 1, 'claiming': 1, 'skills': 1, 'fires': 1, 'sons': 1, 'memorial': 1, 'dinner': 1, 'im': 1, 'victim': 1, 'ill': 1, 'thing': 1, 'clintontype': 1, 'working': 1, 'harder': 1, 'bushwhacks': 1, 'nudges': 1, 'statement': 1, 'clintons': 1, 'delivered': 1, 'delivery': 1, 'ag': 1, 'leaders': 1, 'vow': 1, 'bury': 1, 'farmers': 1, 'repeal': 1, 'horrible': 1, 'levy': 1, 'deadlocked': 1, 'm': 1, 'phones': 1, 'congressional': 1, 'improvement': 1, 'date': 1, 'erie': 1, 'wild': 1, 'control': 1, 'my': 1, 'shame': 1, 'seen': 1, 'uneasy': 1, 'louisiana': 1, 'chesco': 1, 'aspirant': 1, 'mendenhall': 1, 'inn': 1, 'proud': 1, 'father': 1, 'urged': 1, 'tireless': 1, 'striking': 1, 'cakewalk': 1, 'proves': 1, 'difficult': 1, 'empower': 1, 'individuals': 1, 'disagree': 1, 'fund': 1, 'headed': 1, 'such': 1, 'nerdy': 1, 'knowall': 1, 'sells': 1, 'getting': 1, 'sore': 1, 'veep': 1, 'openly': 1, 'qualifications': 1, 'pennsylvanians': 1, 'clinging': 1, 'favorites': 1, 'sharpening': 1, 'voteswap': 1, 'sites': 1, 'closed': 1, 'escape': 1, 'unveils': 1, 'smc': 1, 'councils': 1, 'survey': 1, 'reveals': 1, 'doubt': 1, 'swayed': 1, 'likeability': 1, 'sweepstakes': 1, 'imagechanging': 1, 'thousands': 1, 'cheer': 1, 'charlton': 1, 'civil': 1, 'terrorist': 1, 'during': 1, 'local': 1, 'concedes': 1, 'mistakes': 1, 'battling': 1, 'appearances': 1, 'scott': 1, 'reed': 1, 'cap': 1, 'unchanged': 1, 'stage': 1, 'preelection': 1, 'hurt': 1, 'cause': 1, 'bystate': 1, 'experianced': 1, 'unseasoned': 1, 'casey': 1, 'oval': 1, 'office': 1, 'closest': 1, 'swamp': 1, 'peter': 1, 'spiegel': 1, 'indicate': 1, 'small': 1, 'proposed': 1, 'acknowledges': 1, 'leaking': 1, 'neal': 1, 'boortz': 1, 'sounds': 1, 'confrontation': 1, 'chooses': 1, 'unbelievable': 1, 'lr': 1, 'surest': 1, 'sign': 1, 'rid': 1, 'brands': 1, 'traitor': 1, 'tackled': 1, 'pro': 1, 'israel': 1, 'clues': 1, 'stances': 1, 'current': 1, 'situation': 1, 'suggest': 1, 'runaway': 1, 'defend': 1, 'expectations': 1, 'climb': 1, 'backs': 1, 'images': 1, 'constant': 1, 'presence': 1, 'fail': 1, 'needy': 1, 'stands': 1, 'gear': 1, 'demonstrated': 1, 'room': 1, 'doa': 1, 'overdrive': 1, 'sr': 1, 'ari': 1, 'fleischer': 1, 'understand': 1, 'result': 1, 'think': 1, 'locally': 1, 'constitutional': 1, 'twofront': 1, 'ultimate': 1, 'bellwether': 1, 'endurance': 1, 'desperate': 1, 'apology': 1, 'surrender': 1, 'morning': 1, 'postvote': 1, 'scenarios': 1, 'everybody': 1, 'flap': 1, 'weighs': 1, 'strongly': 1, 'denied': 1, 'any': 1, 'tonights': 1, 'blitzes': 1, 'nm': 1, 'slim': 1, 'pack': 1, 'peacock': 1, 'insight': 1, 'ii': 1, 'democatic': 1, 'natl': 1, 'planned': 1, 'parenthood': 1, 'cmte': 1, 'unity': 1, 'agreement': 1, 'crises': 1, 'overshadow': 1, 'attention': 1, 'thin': 1, 'resume': 1, 'trailing': 1, 'vicepresident': 1, 'rival': 1, 'isnt': 1, 'fit': 1, 'donna': 1, 'sky': 1, 'flooding': 1, 'northeastern': 1, 'slightly': 1, 'locked': 1, 'didnt': 1, 'anything': 1, 'polluting': 1, 'plants': 1, 'been': 1, 'tougher': 1, 'predict': 1, 'upon': 1, 'bedtime': 1, 'awake': 1, 'conservatives': 1, 'labourites': 1, 'loeper': 1, 'quits': 1, 'forum': 1, 'sweep': 1, 'sway': 1, 'beyond': 1, 'wires': 1, 'stance': 1, 'diversity': 1, 'fails': 1, 'inconsistent': 1, 'affirmative': 1, 'action': 1, 'tale': 1, 'st': 1, 'charles': 1, 'residents': 1, 'include': 1, 'music': 1, 'speeches': 1, 'volunteers': 1, 'pitch': 1, 'changing': 1, 'lehigh': 1, 'helps': 1, 'criticism': 1, 'reckless': 1, 'europes': 1, 'peacekeeping': 1, 'decider': 1, 'excitement': 1, 'puzzle': 1, 'reduce': 1, 'garner': 1, 'travel': 1, 'great': 1, 'lakes': 1, 'boat': 1, 'contenders': 1, 'outwit': 1, 'christie': 1, 'todd': 1, 'whitman': 1, 'unionists': 1, 'forget': 1, 'ps': 1, 'qs': 1, 'vword': 1, 'encourage': 1, 'female': 1, 'mocks': 1, 'claims': 1, 'pick': 1, 'should': 1, 'mess': 1, 'fence': 1, 'work': 1, 'commentary': 1, 'poses': 1, 'hazard': 1, 'elbows': 1, 'fly': 1, 'seven': 1, 'courting': 1, 'coast': 1, 'doubts': 1, 'fuel': 1, 'questioned': 1, 'historic': 1, 'painting': 1, 'missing': 1, 'minority': 1, 'caps': 1, 'alternatives': 1, 'gored': 1, 'brings': 1, 'swingstate': 1, 'undeterred': 1, 'discovery': 1, 'gender': 1, 'energy': 1, 'send': 1, 'falters': 1, 'lion': 1, 'queen': 1, 'roars': 1, 'onto': 1, 'seventh': 1, 'recent': 1, 'pittsburg': 1, 'gone': 1, 'sighs': 1, 'came': 1, 'boredom': 1, 'rolling': 1, 'red': 1, 'carpet': 1, 'boosts': 1, 'pressure': 1, 'performance': 1, 'aces': 1, 'geography': 1, 'scores': 1, 'points': 1, 'soaring': 1, 'voices': 1, 'colorado': 1, 'part': 1, 'nets': 1, 'reminisces': 1, 'weekly': 1, 'review': 1, 'oct': 1, 'peacocks': 1, 'tip': 1, 'predictions': 1, 'potpourri': 1, 'professors': 1, 'truly': 1, 'apparently': 1, 'wh': 1, 'regionals': 1, 'indeed': 1, 'separate': 1, 'parody': 1, 'antigoldwater': 1, 'foul': 1, 'captain': 1, 'prescription': 1, 'topic': 1, 'slight': 1, 'loser': 1, 'nominee': 1, 'foes': 1, 'mccain': 1, 'eve': 1, 'economic': 1, 'electiongore': 1, 'keeps': 1, 'momma': 1, 'stealing': 1, 'thunder': 1, 'statistical': 1, 'chronicle': 1, 'mainstream': 1, 'waste': 1, 'democracy': 1, 'accentuate': 1, 'hmo': 1, 'encouraging': 1, 'tightest': 1, 'generation': 1, 'determine': 1, 'migration': 1, 'rise': 1, 'personal': 1, 'snags': 1, 'rnc': 1, 'chairmen': 1, 'ugly': 1, 'petal': 1, 'pushers': 1, 'closes': 1, 'societys': 1, 'standards': 1, 'jeb': 1, 'jean': 1, 'carnahan': 1, 'ashcroft': 1, 'uncle': 1, 'sam': 1, 'prepares': 1, 'lines': 1, 'unspoken': 1, 'invades': 1, 'aides': 1, 'tactic': 1, 'perzel': 1, 'deweese': 1, 'jabs': 1, 'drops': 1, 'bust': 1, 'taxes': 1, 'hadassah': 1, 'cleveland': 1, 'lower': 1, 'd': 1, 'fiercely': 1, 'energize': 1, 'bases': 1, 'leader': 1, 'tilt': 1, 'speech': 1, 'glenside': 1, 'gops': 1, 'dark': 1, 'accused': 1, 'ghosts': 1, 'embarrass': 1, 'predicting': 1, 'eyelids': 1, 'bombing': 1, 'fits': 1, 'cut': 1, 'urge': 1, 'warship': 1, 'northwest': 1, 'adopta': 1, 'rick': 1, 'santorum': 1, 'challenges': 1, 'them': 1, 'engage': 1, 'aggressively': 1, 'ask': 1, 'know': 1, 'glance': 1, 'supports': 1, 'standing': 1, 'shot': 1, 'chile': 1, 'program': 1, 'heats': 1, 'atlanta': 1, 'journalconstitutionwsbtv': 1, 'miller': 1, 'riding': 1, 'georgians': 1, 'rowland': 1, 'employ': 1, 'symbolism': 1, 'jack': 1, 'germond': 1, 'these': 1, 'published': 1, 'elder': 1, 'spoke': 1, 'widener': 1, 'headlining': 1, 'was': 1, 'region': 1, 'link': 1, 'interests': 1, 'bad': 1, 'moon': 1, 'rising': 1, 'way': 1, 'mindful': 1, 'wrong': 1, 'format': 1, 'muddled': 1, 'toehold': 1, 'southern': 1, 'eau': 1, 'claire': 1, 'la': 1, 'crosse': 1, 'newspapers': 1, 'doonesbury': 1, 'splitting': 1, 'hairs': 1, 'muscles': 1, 'backlash': 1, 'liberals': 1, 'afraid': 1, 'h': 1, 'asks': 1, 'bills': 1, 'catholics': 1, 'fold': 1, 'philas': 1, 'brian': 1, 'tierney': 1, 'sell': 1, 'rebounds': 1, 'confidence': 1, 'poised': 1, 'seats': 1, 'surprises': 1, 'timing': 1, 'leak': 1, 'worry': 1, 'extremely': 1, 'surge': 1, 'ceasefire': 1, 'crisscross': 1, 'astronauts': 1, 'arrive': 1, 'international': 1, 'space': 1, 'station': 1, 'marine': 1, 'corps': 1, 'lived': 1, 'lejeune': 1, 'gorebush': 1, 'heated': 1, 'recap': 1, 'arrested': 1, 'popular': 1, 'safe': 1, 'alike': 1, 'honing': 1, 'offence': 1, 'soldily': 1, 'ripe': 1, 'drugsubsidy': 1, 'programs': 1, 'hunters': 1, 'stresses': 1, 'morality': 1, 'central': 1, 'lies': 1, 'highlight': 1, 'shell': 1, 'promise': 1, 'confirms': 1, 'secretary': 1, 'joe': 1, 'lockhart': 1, 'ups': 1, 'decry': 1, 'greeted': 1, 'large': 1, 'recruits': 1, 'harsh': 1, 'tell': 1, 'whole': 1, 'battles': 1, 'examined': 1, 'update': 1, 'markets': 1, 'author': 1, 'ron': 1, 'insana': 1, 'newsweek': 1, 'columnist': 1, 'jonathan': 1, 'alter': 1, 'comprehensive': 1, 'stand': 1, 'major': 1, 'present': 1, 'theme': 1, 'bounce': 1, 'zogby': 1, 'amid': 1, 'continuing': 1, 'please': 1, 'section': 1, 'choice': 1, 'perfectly': 1, 'stick': 1, 'sides': 1, 'tread': 1, 'delicately': 1, 'stays': 1, 'focused': 1, 'threeday': 1, 'western': 1, 'platitudes': 1, 'palaver': 1, 'wish': 1, 'arent': 1, 'faceoff': 1, 'considering': 1, 'effects': 1, 'rep': 1, 'indicators': 1, 'lets': 1, 'book': 1, 'levin': 1, 'wayne': 1, 'lapierre': 1, 'kweisi': 1, 'mfume': 1, 'met': 1, 'keith': 1, 'hernandez': 1, 'yankee': 1, 'don': 1, 'mattingly': 1, 'affect': 1, 'respond': 1, 'yemen': 1, 'moment': 1, 'silence': 1, 'those': 1, 'killed': 1, 'rougher': 1, 'class': 1, 'warfare': 1, 'truthfulness': 1, 'attacked': 1, 'excerpts': 1, 'fri': 1, 'zero': 1, 'hearts': 1, 'smilin': 1, 'obscures': 1, 'scary': 1, 'several': 1, 'lure': 1, 'newsmaker': 1, 'church': 1, 'juggernaut': 1, 'accelerates': 1, 'avoca': 1, 'quickens': 1, 'un': 1, 'global': 1, 'warming': 1, 'i': 1, 'mobilises': 1, 'doubters': 1, 'spar': 1, 'ease': 1, 'jab': 1, 'always': 1, 'dig': 1, 'portland': 1, 'lawyer': 1, 'got': 1, 'wind': 1, 'aiding': 1, 'latino': 1, 'evenly': 1, 'matched': 1, 'chess': 1, 'match': 1, 'hustles': 1, 'controls': 1, 'damage': 1, 'hitting': 1, 'rules': 1, 'embraces': 1, 'karl': 1, 'rove': 1, 'raises': 1, 'columbia': 1, 'subway': 1, 'location': 1, 'given': 1, 'whoppers': 1, 'bridge': 1, 'ranks': 1, 'spent': 1, 'alleged': 1, 'medicaid': 1, 'fraud': 1, 'scrutiny': 1, 'prevented': 1, 'abuses': 1, 'dentists': 1, 'among': 1, 'financial': 1, 'contributors': 1, 'seek': 1, 'treats': 1, 'halloween': 1, 'wont': 1, 'charmer': 1, 'panderer': 1, 'minds': 1, 'display': 1, 'boston': 1, 'displaying': 1, 'lack': 1, 'joined': 1, 'tony': 1, 'blankley': 1, 'eleanor': 1, 'clift': 1, 'clarence': 1, 'page': 1, 'friends': 1, 'earlier': 1, 'experiences': 1, 'jewish': 1, 'minders': 1, 'cracks': 1, 'fibs': 1, 'muddles': 1, 'facts': 1, 'mistake': 1, 'blow': 1, 'rematch': 1, 'offered': 1, 'shallow': 1, 'men': 1, 'tailormade': 1, 'opt': 1, 'spreading': 1, 'pulse': 1, 'creates': 1, 'nd': 1, 'credible': 1, 'targeting': 1, 'steeling': 1, 'talkradio': 1, 'hosts': 1, 'paul': 1, 'wjr': 1, 'joyner': 1, 'abc': 1, 'networks': 1, 'wage': 1, 'little': 1, 'medicare': 1, 'hints': 1, 'position': 1, 'investigators': 1, 'subpoena': 1, 'tape': 1, 'stepping': 1, 'unqualified': 1, 'crossing': 1, 'famous': 1, 'folks': 1, 'number': 1, 'theres': 1, 'arab': 1, 'mich': 1, 'concerns': 1, 'penn': 1, 'organizations': 1, 'launches': 1, 'sharpened': 1, 'npr': 1, 'editor': 1, 'waning': 1, 'tuesdays': 1, 'whats': 1, 'basic': 1, 'themes': 1, 'dominate': 1, 'tightening': 1, 'polluters': 1, 'antigore': 1, 'mimics': 1, 'notorious': 1, 'daisy': 1, 'hangover': 1, 'wows': 1, 'em': 1, 'finds': 1, 'receptive': 1, 'audience': 1, 'strasburg': 1, 'rdparty': 1, 'idea': 1, 'mail': 1, 'robo': 1, 'urging': 1, 'stephanopoulos': 1, 'behalf': 1, 'project': 1, 'teaches': 1, 'voting': 1, 'emphasizes': 1, 'struggles': 1, 'momentum': 1, 'tick': 1, 'above': 1, 'fray': 1, 'slug': 1, 'bolster': 1, 'tough': 1, 'complicates': 1, 'feud': 1, 'had': 1, 'prayer': 1, 'signups': 1, 'flood': 1, 'eleven': 1, 'swinging': 1, 'chicago': 1, 'tribune': 1, 'gersh': 1, 'fools': 1, 'failures': 1})\n"
     ]
    }
   ],
   "source": [
    "x = list(example['headlines'].str.split())[0]\n",
    "print(Counter(x))"
   ]
  },
  {
   "cell_type": "code",
   "execution_count": null,
   "metadata": {},
   "outputs": [],
   "source": []
  }
 ],
 "metadata": {
  "kernelspec": {
   "display_name": "Python 3",
   "language": "python",
   "name": "python3"
  },
  "language_info": {
   "codemirror_mode": {
    "name": "ipython",
    "version": 3
   },
   "file_extension": ".py",
   "mimetype": "text/x-python",
   "name": "python",
   "nbconvert_exporter": "python",
   "pygments_lexer": "ipython3",
   "version": "3.10.6"
  },
  "orig_nbformat": 4,
  "vscode": {
   "interpreter": {
    "hash": "15f7fb6bfa40f6d98bec429272306fda6b1744d745c4cccbf28593f1f78abeba"
   }
  }
 },
 "nbformat": 4,
 "nbformat_minor": 2
}
