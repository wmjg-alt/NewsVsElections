{
 "cells": [
  {
   "cell_type": "code",
   "execution_count": 1,
   "metadata": {},
   "outputs": [],
   "source": [
    "import pandas as pd\n",
    "from sklearn.utils import all_estimators\n",
    "from sklearn.model_selection import train_test_split\n",
    "from sklearn.metrics import classification_report\n",
    "\n",
    "import warnings\n",
    "warnings.simplefilter(action='ignore')\n",
    "\n",
    "out_file ='full_with_headlines.csv'\n",
    "head_split = '    '\n",
    "news_df = pd.read_csv(out_file)\n",
    "news_df = news_df[(news_df['headlines'].notna()) & (news_df['headlines'] != \"\")].reset_index()\n",
    "news_df['winner'] = news_df.groupby(['year','state','district','totalvotes'], sort=False)['candidatevotes'].transform(max)\n",
    "news_df['winner'] = news_df['winner'] == news_df['candidatevotes']"
   ]
  },
  {
   "cell_type": "code",
   "execution_count": 39,
   "metadata": {},
   "outputs": [],
   "source": [
    "X = [[x] for x in list(news_df['headlines'].str.split(head_split).str.len())]\n",
    "y = news_df['winner']"
   ]
  },
  {
   "cell_type": "code",
   "execution_count": 40,
   "metadata": {},
   "outputs": [],
   "source": [
    "SK_ALL = all_estimators(type_filter=['classifier'],)#'regressor'\n",
    "names = [sk[0] for sk in SK_ALL if 'dummy' not in sk[0]]\n",
    "modls = [sk[1] for sk in SK_ALL if 'dummy' not in sk[0]]"
   ]
  },
  {
   "cell_type": "code",
   "execution_count": 43,
   "metadata": {},
   "outputs": [],
   "source": [
    "X_train, X_test, y_train, y_test = train_test_split(X, y, test_size=0.25, shuffle=True, stratify=y)"
   ]
  },
  {
   "cell_type": "code",
   "execution_count": 44,
   "metadata": {},
   "outputs": [
    {
     "name": "stdout",
     "output_type": "stream",
     "text": [
      "('AdaBoostClassifier', 0.5950738916256157)\n",
      "('BaggingClassifier', 0.5674876847290641)\n",
      "('BernoulliNB', 0.5566502463054187)\n",
      "('CalibratedClassifierCV', 0.5566502463054187)\n",
      "('ComplementNB', 0.4433497536945813)\n",
      "('DecisionTreeClassifier', 0.5596059113300492)\n",
      "('DummyClassifier', 0.5566502463054187)\n",
      "('ExtraTreeClassifier', 0.5635467980295567)\n",
      "('ExtraTreesClassifier', 0.5635467980295567)\n",
      "('GaussianNB', 0.5635467980295567)\n",
      "('GaussianProcessClassifier', 0.5783251231527093)\n",
      "('GradientBoostingClassifier', 0.594088669950739)\n",
      "('HistGradientBoostingClassifier', 0.5802955665024631)\n",
      "('KNeighborsClassifier', 0.5556650246305419)\n",
      "('LabelPropagation', 0.5674876847290641)\n",
      "('LabelSpreading', 0.5704433497536946)\n",
      "('LinearDiscriminantAnalysis', 0.5566502463054187)\n",
      "('LinearSVC', 0.5773399014778325)\n",
      "('LogisticRegression', 0.5566502463054187)\n",
      "('LogisticRegressionCV', 0.5566502463054187)\n",
      "('MLPClassifier', 0.5862068965517241)\n",
      "('MultinomialNB', 0.5566502463054187)\n",
      "('NearestCentroid', 0.5103448275862069)\n",
      "('NuSVC', 0.49261083743842365)\n",
      "('PassiveAggressiveClassifier', 0.5625615763546798)\n",
      "('Perceptron', 0.5566502463054187)\n",
      "('QuadraticDiscriminantAnalysis', 0.5635467980295567)\n",
      "('RandomForestClassifier', 0.5536945812807882)\n",
      "('RidgeClassifier', 0.5566502463054187)\n",
      "('RidgeClassifierCV', 0.5566502463054187)\n",
      "('SGDClassifier', 0.4433497536945813)\n",
      "('SVC', 0.5763546798029556)\n"
     ]
    }
   ],
   "source": [
    "res_book = []\n",
    "for i in range(len(modls)):\n",
    "    name = names[i]\n",
    "    try:\n",
    "        model = modls[i]()\n",
    "        model.fit(X=X_train, y=y_train)\n",
    "        preds = model.predict(X_test)\n",
    "        res_book.append((name,model.score(X_test, y_test),model))\n",
    "        print((name,model.score(X_test, y_test)))\n",
    "    except Exception as e:\n",
    "        #print(name, 'FAIL', str(e)[:100])\n",
    "        pass"
   ]
  },
  {
   "cell_type": "code",
   "execution_count": 45,
   "metadata": {},
   "outputs": [
    {
     "name": "stdout",
     "output_type": "stream",
     "text": [
      "('AdaBoostClassifier', 0.5950738916256157, AdaBoostClassifier())\n",
      "('GaussianProcessClassifier', 0.5783251231527093, GaussianProcessClassifier())\n",
      "('GradientBoostingClassifier', 0.594088669950739, GradientBoostingClassifier())\n",
      "('HistGradientBoostingClassifier', 0.5802955665024631, HistGradientBoostingClassifier())\n",
      "('LabelSpreading', 0.5704433497536946, LabelSpreading())\n",
      "('LinearSVC', 0.5773399014778325, LinearSVC())\n",
      "('MLPClassifier', 0.5862068965517241, MLPClassifier())\n",
      "('SVC', 0.5763546798029556, SVC())\n"
     ]
    }
   ],
   "source": [
    "res_book2 = [r for r in res_book if r[1] >= 0.57]\n",
    "print(*res_book2, sep='\\n')"
   ]
  },
  {
   "cell_type": "code",
   "execution_count": 46,
   "metadata": {},
   "outputs": [
    {
     "name": "stdout",
     "output_type": "stream",
     "text": [
      "              precision    recall  f1-score   support\n",
      "\n",
      "       False       0.56      0.54      0.55       463\n",
      "        True       0.62      0.64      0.63       552\n",
      "\n",
      "    accuracy                           0.60      1015\n",
      "   macro avg       0.59      0.59      0.59      1015\n",
      "weighted avg       0.59      0.60      0.59      1015\n",
      "\n"
     ]
    }
   ],
   "source": [
    "def test_best(m):\n",
    "    preds = m.predict(X_test)\n",
    "    print(classification_report(preds,y_test))\n",
    "test_best(res_book2[0][2])"
   ]
  },
  {
   "cell_type": "code",
   "execution_count": 29,
   "metadata": {},
   "outputs": [
    {
     "data": {
      "text/plain": [
       "0.5567873860556788"
      ]
     },
     "execution_count": 29,
     "metadata": {},
     "output_type": "execute_result"
    }
   ],
   "source": [
    "y.sum()/ len(y)"
   ]
  },
  {
   "cell_type": "code",
   "execution_count": null,
   "metadata": {},
   "outputs": [],
   "source": []
  }
 ],
 "metadata": {
  "kernelspec": {
   "display_name": "Python 3",
   "language": "python",
   "name": "python3"
  },
  "language_info": {
   "codemirror_mode": {
    "name": "ipython",
    "version": 3
   },
   "file_extension": ".py",
   "mimetype": "text/x-python",
   "name": "python",
   "nbconvert_exporter": "python",
   "pygments_lexer": "ipython3",
   "version": "3.10.6 (tags/v3.10.6:9c7b4bd, Aug  1 2022, 21:53:49) [MSC v.1932 64 bit (AMD64)]"
  },
  "orig_nbformat": 4,
  "vscode": {
   "interpreter": {
    "hash": "15f7fb6bfa40f6d98bec429272306fda6b1744d745c4cccbf28593f1f78abeba"
   }
  }
 },
 "nbformat": 4,
 "nbformat_minor": 2
}
